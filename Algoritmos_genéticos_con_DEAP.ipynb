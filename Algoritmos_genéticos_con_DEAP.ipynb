{
  "nbformat": 4,
  "nbformat_minor": 0,
  "metadata": {
    "colab": {
      "provenance": [],
      "include_colab_link": true
    },
    "kernelspec": {
      "name": "python3",
      "display_name": "Python 3"
    }
  },
  "cells": [
    {
      "cell_type": "markdown",
      "metadata": {
        "id": "view-in-github",
        "colab_type": "text"
      },
      "source": [
        "<a href=\"https://colab.research.google.com/github/FernandaCorlix/TOPICOSDEIA/blob/main/Algoritmos_gen%C3%A9ticos_con_DEAP.ipynb\" target=\"_parent\"><img src=\"https://colab.research.google.com/assets/colab-badge.svg\" alt=\"Open In Colab\"/></a>"
      ]
    },
    {
      "cell_type": "markdown",
      "source": [
        "Instalamos la biblioteca  deap (Distributed Evolutionary Algorithms in Python)"
      ],
      "metadata": {
        "id": "OTn9DVqHRCiR"
      }
    },
    {
      "cell_type": "code",
      "source": [
        "!pip install deap"
      ],
      "metadata": {
        "id": "qaWQe9s3HAO5",
        "outputId": "45accced-3e8d-4cc2-8557-4a8160de41aa",
        "colab": {
          "base_uri": "https://localhost:8080/"
        }
      },
      "execution_count": 26,
      "outputs": [
        {
          "output_type": "stream",
          "name": "stdout",
          "text": [
            "Requirement already satisfied: deap in /usr/local/lib/python3.10/dist-packages (1.4.1)\n",
            "Requirement already satisfied: numpy in /usr/local/lib/python3.10/dist-packages (from deap) (1.23.5)\n"
          ]
        }
      ]
    },
    {
      "cell_type": "markdown",
      "source": [
        "#OBJETIVO 5 Ó 10\n",
        "Si a objetivo se le pone 5, el código buscará una combinación de números en la lista (lista_numeros) de tal forma que la suma de 5 o lo más cercano posible, eso mismo pasa si el objetivo es 10."
      ],
      "metadata": {
        "id": "0ZmYHHI3Pxma"
      }
    },
    {
      "cell_type": "markdown",
      "source": [
        "#OBJETIVO 0\n",
        "Si se le pone 0, el codigo buscara una combinacion de numeros en la lista (lista numeros) y de tal forma que la suma de 0"
      ],
      "metadata": {
        "id": "qAmKd1EmQB-c"
      }
    },
    {
      "cell_type": "markdown",
      "source": [
        "En esta parte tenemos, lo que es el tamaño de la poblacion (se le puede poner cualquier numero pero entre más grande el numero de la poblacion más tardado la ejecucion)"
      ],
      "metadata": {
        "id": "m5b52Q7yRgqa"
      }
    },
    {
      "cell_type": "code",
      "source": [
        "#Los importos que necesitamos para ejecutar el codigo.\n",
        "import random\n",
        "from deap import base, creator, tools\n",
        "\n",
        "# Lista de números de entrada\n",
        "lista_numeros = [1, 2, 3, 4, 5, 6, 7, 8, 9]\n",
        "\n",
        "# Objetivo de suma (5, 10 o 0)\n",
        "objetivo = 0 #Se cambia dependiendo de lo que se busque."
      ],
      "metadata": {
        "id": "zd-s6v9pPd9A"
      },
      "execution_count": 27,
      "outputs": []
    },
    {
      "cell_type": "markdown",
      "source": [
        "Aqui tenemos lo que es el tamaño de la poblacion, sus generaciones y la probabilidad que tiene de mutacion, en el tamaño, dependiendo de que tanta poblacion se le ponga es más tardado a la hora de la ejecucion y tambien va a depender de que tantas generaciones tenga. (Con 100,000 de poblacion y 100 generaciones tardo más de 3 minutos y se trabo el googlecolab)"
      ],
      "metadata": {
        "id": "MKp36QK4S35Y"
      }
    },
    {
      "cell_type": "code",
      "source": [
        "# Parámetros del algoritmo genético\n",
        "tamaño_poblacion = 1000\n",
        "generaciones = 100\n",
        "probabilidad_mutacion = 0.1\n",
        "\n"
      ],
      "metadata": {
        "id": "JA8TAJDyQ9Dt"
      },
      "execution_count": 28,
      "outputs": []
    },
    {
      "cell_type": "markdown",
      "source": [
        "#Funcion de aptitud\n",
        "\n",
        "Lo que hace es que toma la suma de la lista de numeros que estan selecionados en el individuo, luego calcula la diferencia entre al suma y el objetivo y los if son las dependencias que se tiene o la penalizacion, si es 0 devuelve la diferencia como está, si es 5 devuelve 10 o si no va a devolver un 5, al igual que con el 10, si la diferencia devuelve 20 es por que no es igual a 10 y si si´pues devuelve 10"
      ],
      "metadata": {
        "id": "9ZjG1SBrTYCk"
      }
    },
    {
      "cell_type": "code",
      "source": [
        "# Función de aptitud\n",
        "def calcular_aptitud(individuo):\n",
        "    suma = sum(lista_numeros[i] for i in range(len(individuo)) if individuo[i] == 1)\n",
        "    diferencia = abs(suma - objetivo)\n",
        "    if objetivo == 0:\n",
        "        return diferencia\n",
        "    elif objetivo == 5:\n",
        "        # Penalizar las diferencias que no sean 5\n",
        "        return diferencia if diferencia == 5 else 10  # Valor alto para penalizar\n",
        "    elif objetivo == 10:\n",
        "        # Penalizar las diferencias que no sean 10\n",
        "        return diferencia if diferencia == 10 else 20  # Valor alto para penalizar"
      ],
      "metadata": {
        "id": "S11If3LGTVa6"
      },
      "execution_count": 29,
      "outputs": []
    },
    {
      "cell_type": "markdown",
      "source": [
        "Codigo genetico\n",
        "\n",
        "En esta parte se hacen lo que son las mutaciones, los individuos, las generaciones, se inicializa la poblacion, salen los padres, sus clones, los hijos."
      ],
      "metadata": {
        "id": "UvzO1ezpUW6K"
      }
    },
    {
      "cell_type": "code",
      "metadata": {
        "id": "Ez5Qb9EAZx7W"
      },
      "source": [
        "# Configurar DEAP\n",
        "creator.create(\"FitnessMin\", base.Fitness, weights=(-1.0,))\n",
        "creator.create(\"Individual\", list, fitness=creator.FitnessMin)\n",
        "\n",
        "toolbox = base.Toolbox()\n",
        "toolbox.register(\"attr_bool\", random.randint, 0, 1)\n",
        "toolbox.register(\"individual\", tools.initRepeat, creator.Individual, toolbox.attr_bool, len(lista_numeros))\n",
        "toolbox.register(\"population\", tools.initRepeat, list, toolbox.individual)\n",
        "\n",
        "toolbox.register(\"evaluate\", calcular_aptitud)\n",
        "toolbox.register(\"mate\", tools.cxTwoPoint)\n",
        "toolbox.register(\"mutate\", tools.mutFlipBit, indpb=probabilidad_mutacion)\n",
        "toolbox.register(\"select\", tools.selTournament, tournsize=3)\n",
        "\n",
        "# Inicialización de la población\n",
        "poblacion = toolbox.population(n=tamaño_poblacion)\n",
        "\n",
        "# Algoritmo genético\n",
        "for generacion in range(generaciones):\n",
        "    # Evaluación de la aptitud de cada individuo\n",
        "    fitness_values = list(map(toolbox.evaluate, poblacion))\n",
        "    for ind, fit in zip(poblacion, fitness_values):\n",
        "        ind.fitness.values = (fit,)\n",
        "\n",
        "    # Selección de padres\n",
        "    padres = toolbox.select(poblacion, len(poblacion))\n",
        "\n",
        "    # Clonar los padres\n",
        "    hijos = list(map(toolbox.clone, padres))\n",
        "\n",
        "    # Cruce y mutación\n",
        "    for hijo1, hijo2 in zip(hijos[::2], hijos[1::2]):\n",
        "        if random.random() < 0.5:\n",
        "            toolbox.mate(hijo1, hijo2)\n",
        "            del hijo1.fitness.values\n",
        "            del hijo2.fitness.values\n",
        "\n",
        "    for hijo in hijos:\n",
        "        if random.random() < probabilidad_mutacion:\n",
        "            toolbox.mutate(hijo)\n",
        "            del hijo.fitness.values\n",
        "\n",
        "    # Reemplazar la población antigua por la nueva generación\n",
        "    poblacion[:] = hijos\n",
        "\n",
        "\n",
        "\n",
        "# Algoritmo genético\n",
        "for generacion in range(generaciones):\n",
        "    # Evaluación de la aptitud de cada individuo\n",
        "    fitness_values = list(map(toolbox.evaluate, poblacion))\n",
        "    for ind, fit in zip(poblacion, fitness_values):\n",
        "        ind.fitness.values = (fit,)\n"
      ],
      "execution_count": 30,
      "outputs": []
    },
    {
      "cell_type": "markdown",
      "source": [
        "#Imprimir resultados\n",
        "\n",
        "Se muestra el mejor invididuo y se muestra la suma resultante que nos quedo despues de pasarla por la funcion de aptitud"
      ],
      "metadata": {
        "id": "a1_j-olfUruT"
      }
    },
    {
      "cell_type": "code",
      "source": [
        "# Encontrar el mejor individuo en la última generación\n",
        "mejor_individuo = min(poblacion, key=lambda x: x.fitness.values[0])\n",
        "suma_resultante = sum(lista_numeros[i] for i in range(len(mejor_individuo)) if mejor_individuo[i] == 1)\n",
        "\n",
        "\n",
        "print(\"Individuo:\", mejor_individuo)\n",
        "print(\"Suma resultante:\", suma_resultante)\n"
      ],
      "metadata": {
        "colab": {
          "base_uri": "https://localhost:8080/"
        },
        "id": "mAdq4h8_UsIb",
        "outputId": "54327c1f-2cb3-4992-bf1c-adce0437c395"
      },
      "execution_count": 31,
      "outputs": [
        {
          "output_type": "stream",
          "name": "stdout",
          "text": [
            "Individuo: [0, 0, 0, 0, 0, 0, 0, 0, 0]\n",
            "Suma resultante: 0\n"
          ]
        }
      ]
    }
  ]
}