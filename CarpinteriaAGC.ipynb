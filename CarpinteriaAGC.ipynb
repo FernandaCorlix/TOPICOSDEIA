{
  "nbformat": 4,
  "nbformat_minor": 0,
  "metadata": {
    "colab": {
      "provenance": [],
      "include_colab_link": true
    },
    "kernelspec": {
      "name": "python3",
      "display_name": "Python 3"
    },
    "language_info": {
      "name": "python"
    }
  },
  "cells": [
    {
      "cell_type": "markdown",
      "metadata": {
        "id": "view-in-github",
        "colab_type": "text"
      },
      "source": [
        "<a href=\"https://colab.research.google.com/github/FernandaCorlix/TOPICOSDEIA/blob/main/CarpinteriaAGC.ipynb\" target=\"_parent\"><img src=\"https://colab.research.google.com/assets/colab-badge.svg\" alt=\"Open In Colab\"/></a>"
      ]
    },
    {
      "cell_type": "code",
      "source": [
        "import math\n",
        "from random import random\n",
        "import numpy as np"
      ],
      "metadata": {
        "id": "Mlq79xtAas51"
      },
      "execution_count": null,
      "outputs": []
    },
    {
      "cell_type": "code",
      "source": [
        "class Individuo:\n",
        "  def __init__(self,cromosoma) -> None:\n",
        "    self.cromosoma=cromosoma\n",
        "    self.fitness = None\n",
        "\n",
        "class Estacion:\n",
        "  def __init__(self,nombre,numero,pos_x,pos_y):\n",
        "    self.nombre = nombre\n",
        "    self.numero = numero\n",
        "    self.pos_x = pos_x\n",
        "    self.pos_y = pos_y\n",
        "\n",
        "  def __str__(self):\n",
        "    return f'Numero: {self.numero}, x={self.pos_x}, y= {self.pos_y}'\n",
        "\n",
        "  def __repr__(self):\n",
        "    return f'Numero: {self.numero}, x={self.pos_x}, y= {self.pos_y}'\n",
        "\n"
      ],
      "metadata": {
        "id": "PG9rf9EG1I_F"
      },
      "execution_count": null,
      "outputs": []
    },
    {
      "cell_type": "code",
      "source": [
        "estaciones_acomodar = [0,1,2,3,4,5,6,7,0,0,0,0]\n",
        "estaciones_ocupadas = {\n",
        "    8:Estacion('mat. prima',8,1,4),\n",
        "    9:Estacion('triplay',9,1,3),\n",
        "    10:Estacion('almacen', 10, 4, 3),\n",
        "    11:Estacion('baño', 11, 1, 1),\n",
        "}\n",
        "libres = [\n",
        "    (1, 2),\n",
        "    (2, 1),\n",
        "    (2, 2),\n",
        "    (2, 3),\n",
        "    (2, 4),\n",
        "    (3, 1),\n",
        "    (3, 2),\n",
        "    (3, 3),\n",
        "    (3, 4),\n",
        "    (4, 1),\n",
        "    (4, 2),\n",
        "    (4, 4),\n",
        "]"
      ],
      "metadata": {
        "id": "ouPIIigdWeH1"
      },
      "execution_count": null,
      "outputs": []
    },
    {
      "cell_type": "code",
      "source": [
        "def generate_vector(n_genes):\n",
        "  return [0.5] * n_genes"
      ],
      "metadata": {
        "id": "uLFXhe68Zo9B"
      },
      "execution_count": null,
      "outputs": []
    },
    {
      "cell_type": "code",
      "source": [
        "def generate_candidate(vector):\n",
        "  value = \"\"\n",
        "  for prob in vector:\n",
        "    value += \"1\" if random() < prob else \"0\"\n",
        "\n",
        "  return Individuo(value)"
      ],
      "metadata": {
        "id": "yFa5NhxyakMm"
      },
      "execution_count": null,
      "outputs": []
    },
    {
      "cell_type": "code",
      "source": [
        "def update_vector(vector, winner, loser, population_size):\n",
        "  vector_n = []\n",
        "  for i in range(len(vector)):\n",
        "    if winner[i] != loser[i]:\n",
        "      if winner[i] == '1':\n",
        "        vector[i] += 1.0 / float(population_size)\n",
        "      else:\n",
        "        vector[i] -= 1.0 / float(population_size)\n"
      ],
      "metadata": {
        "id": "HGpw-ho4PikC"
      },
      "execution_count": null,
      "outputs": []
    },
    {
      "cell_type": "code",
      "source": [
        "def compete(a,b):\n",
        "  if a.fitness < b.fitness:\n",
        "    return a, b\n",
        "  else:\n",
        "    return b, a"
      ],
      "metadata": {
        "id": "6wD4putm-z4z"
      },
      "execution_count": null,
      "outputs": []
    },
    {
      "cell_type": "code",
      "source": [
        "def bits_disponibles(estaciones_disp):\n",
        "  if estaciones_disp == 0:\n",
        "    return 1\n",
        "  else:\n",
        "    return int(math.log2(estaciones_disp)) + 1\n",
        "\n",
        "print(bits_disponibles(8))"
      ],
      "metadata": {
        "colab": {
          "base_uri": "https://localhost:8080/"
        },
        "id": "GcuofmRin-lQ",
        "outputId": "d1f892a6-4309-45ae-fc6a-3fc7d86e732b"
      },
      "execution_count": null,
      "outputs": [
        {
          "output_type": "stream",
          "name": "stdout",
          "text": [
            "4\n"
          ]
        }
      ]
    },
    {
      "cell_type": "code",
      "source": [
        "def fitness_function(ind):\n",
        "  estaciones = dec_ind(ind.cromosoma)\n",
        "  distancia_tot = distancia_total(estaciones)\n",
        "  return distancia_tot\n",
        "\n",
        "\n",
        "def distancia_total(estaciones):\n",
        "  ruta = [1, 8, 1, 4, 5, 3, 4, 3, 1, 9, 1, 3, 1, 10]\n",
        "  distancia_total = 0\n",
        "  for i in range(1, len(ruta)):\n",
        "    punto_1 = ruta[i-1]\n",
        "    punto_2 = ruta[i]\n",
        "    estacion_actual = estaciones[punto_1]\n",
        "    estacion_siguiente = estaciones[punto_2]\n",
        "    distancia_total = distancia_total + distancia_entre_puntos(estacion_actual,estacion_siguiente)\n",
        "\n",
        "  return distancia_total\n",
        "\n",
        "def distancia_entre_puntos(estacion_actual,estacion_siguiente):\n",
        "  return math.sqrt(((estacion_siguiente.pos_x-estacion_actual.pos_x)**2)+((estacion_siguiente.pos_y-estacion_actual.pos_y)**2))\n"
      ],
      "metadata": {
        "id": "XZLTOhg5P8V1"
      },
      "execution_count": null,
      "outputs": []
    },
    {
      "cell_type": "code",
      "source": [
        "def dec_ind(ind):\n",
        "  estaciones_acomodar_copy = estaciones_acomodar.copy()\n",
        "  estaciones_ocupadas_copy = estaciones_ocupadas.copy()\n",
        "  ind2 = ind #cadena de bits recibida\n",
        "\n",
        "  for i in range(len(libres)):\n",
        "    cantidad_bits = bits_disponibles(len(estaciones_acomodar_copy))\n",
        "\n",
        "    bits_seleccionados = ind2[:cantidad_bits]\n",
        "    ind2 = ind2[cantidad_bits:]\n",
        "\n",
        "    if not bits_seleccionados:\n",
        "      elemento = 0\n",
        "    else:\n",
        "      elemento = int(bits_seleccionados,2)\n",
        "\n",
        "    if elemento >= len(estaciones_acomodar_copy):\n",
        "      elemento = len(estaciones_acomodar_copy) - 1\n",
        "\n",
        "    estacion = estaciones_acomodar_copy.pop(elemento)\n",
        "\n",
        "    if estacion == 0:\n",
        "      continue\n",
        "\n",
        "    x_pos, y_pos = libres[i]\n",
        "    estacion_num = estacion\n",
        "    #print(estacion_num)\n",
        "    #print('xpos ypos',x_pos,y_pos)\n",
        "    #print({estacion_num,x_pos,y_pos})\n",
        "    estaciones_ocupadas_copy[estacion_num]=Estacion('',estacion_num, x_pos, y_pos)\n",
        "\n",
        "  return estaciones_ocupadas_copy"
      ],
      "metadata": {
        "id": "5AjXPhCdmjwG"
      },
      "execution_count": null,
      "outputs": []
    },
    {
      "cell_type": "code",
      "source": [
        "def run(generaciones, tamano, poblacion, fitness_function):\n",
        "  vector = generate_vector(tamano)\n",
        "  best = None\n",
        "\n",
        "\n",
        "  for i in range(generaciones):\n",
        "\n",
        "    a = generate_candidate(vector)\n",
        "    b = generate_candidate(vector)\n",
        "\n",
        "    a.fitness = fitness_function(a)\n",
        "    b.fitness = fitness_function(b)\n",
        "\n",
        "    winner, loser = compete(a, b)\n",
        "\n",
        "    if best:\n",
        "      if winner.fitness < best.fitness:\n",
        "        best = winner\n",
        "    else:\n",
        "      best = winner\n",
        "\n",
        "    update_vector(vector, winner.cromosoma, loser.cromosoma, poblacion)\n",
        "\n",
        "    print(\"generation: %d best value: %s best fitness: %f\" % (i + 1, best.cromosoma, float(best.fitness)))\n",
        "\n",
        "  return best.cromosoma\n"
      ],
      "metadata": {
        "id": "TTGGXFUTZy6-"
      },
      "execution_count": null,
      "outputs": []
    },
    {
      "cell_type": "code",
      "source": [
        "generaciones = 250\n",
        "poblacion = 20\n",
        "tamano = 31"
      ],
      "metadata": {
        "id": "dWe_R9r0vE8a"
      },
      "execution_count": null,
      "outputs": []
    },
    {
      "cell_type": "code",
      "source": [
        "individuo=run(generaciones,tamano,poblacion,fitness_function)\n",
        "print(individuo)"
      ],
      "metadata": {
        "colab": {
          "base_uri": "https://localhost:8080/"
        },
        "id": "a6bSzDWEvDCY",
        "outputId": "04e01572-b1d4-44d2-a051-b9051f33e4f2"
      },
      "execution_count": null,
      "outputs": [
        {
          "output_type": "stream",
          "name": "stdout",
          "text": [
            "generation: 1 best value: 0001000100010011101000100111000 best fitness: 19.226773\n",
            "generation: 2 best value: 0001000100010011101000100111000 best fitness: 19.226773\n",
            "generation: 3 best value: 0001000100010011101000100111000 best fitness: 19.226773\n",
            "generation: 4 best value: 0001000100010011101000100111000 best fitness: 19.226773\n",
            "generation: 5 best value: 0001000100010011101000100111000 best fitness: 19.226773\n",
            "generation: 6 best value: 0001000100010011101000100111000 best fitness: 19.226773\n",
            "generation: 7 best value: 0001000100010011101000100111000 best fitness: 19.226773\n",
            "generation: 8 best value: 0001000100010011101000100111000 best fitness: 19.226773\n",
            "generation: 9 best value: 0001000100010011101000100111000 best fitness: 19.226773\n",
            "generation: 10 best value: 0001000100010011101000100111000 best fitness: 19.226773\n",
            "generation: 11 best value: 0001000100010011101000100111000 best fitness: 19.226773\n",
            "generation: 12 best value: 0110101101000001001110001011101 best fitness: 18.307136\n",
            "generation: 13 best value: 0110101101000001001110001011101 best fitness: 18.307136\n",
            "generation: 14 best value: 0110101101000001001110001011101 best fitness: 18.307136\n",
            "generation: 15 best value: 0110101101000001001110001011101 best fitness: 18.307136\n",
            "generation: 16 best value: 0110101101000001001110001011101 best fitness: 18.307136\n",
            "generation: 17 best value: 0110101101000001001110001011101 best fitness: 18.307136\n",
            "generation: 18 best value: 0110101101000001001110001011101 best fitness: 18.307136\n",
            "generation: 19 best value: 0110101101000001001110001011101 best fitness: 18.307136\n",
            "generation: 20 best value: 0110101101000001001110001011101 best fitness: 18.307136\n",
            "generation: 21 best value: 0110101101000001001110001011101 best fitness: 18.307136\n",
            "generation: 22 best value: 0110101101000001001110001011101 best fitness: 18.307136\n",
            "generation: 23 best value: 0110101101000001001110001011101 best fitness: 18.307136\n",
            "generation: 24 best value: 0110101101000001001110001011101 best fitness: 18.307136\n",
            "generation: 25 best value: 0110101101000001001110001011101 best fitness: 18.307136\n",
            "generation: 26 best value: 0110101101000001001110001011101 best fitness: 18.307136\n",
            "generation: 27 best value: 0110101101000001001110001011101 best fitness: 18.307136\n",
            "generation: 28 best value: 0110101101000001001110001011101 best fitness: 18.307136\n",
            "generation: 29 best value: 0110101101000001001110001011101 best fitness: 18.307136\n",
            "generation: 30 best value: 0110101101000001001110001011101 best fitness: 18.307136\n",
            "generation: 31 best value: 0110101101000001001110001011101 best fitness: 18.307136\n",
            "generation: 32 best value: 0110101101000001001110001011101 best fitness: 18.307136\n",
            "generation: 33 best value: 0110101101000001001110001011101 best fitness: 18.307136\n",
            "generation: 34 best value: 0110101101000001001110001011101 best fitness: 18.307136\n",
            "generation: 35 best value: 0110101101000001001110001011101 best fitness: 18.307136\n",
            "generation: 36 best value: 0110101101000001001110001011101 best fitness: 18.307136\n",
            "generation: 37 best value: 0110101101000001001110001011101 best fitness: 18.307136\n",
            "generation: 38 best value: 0110101101000001001110001011101 best fitness: 18.307136\n",
            "generation: 39 best value: 0110101101000001001110001011101 best fitness: 18.307136\n",
            "generation: 40 best value: 0110101101000001001110001011101 best fitness: 18.307136\n",
            "generation: 41 best value: 0110101101000001001110001011101 best fitness: 18.307136\n",
            "generation: 42 best value: 0110101101000001001110001011101 best fitness: 18.307136\n",
            "generation: 43 best value: 0110101101000001001110001011101 best fitness: 18.307136\n",
            "generation: 44 best value: 0110101101000001001110001011101 best fitness: 18.307136\n",
            "generation: 45 best value: 0110101101000001001110001011101 best fitness: 18.307136\n",
            "generation: 46 best value: 0110101101000001001110001011101 best fitness: 18.307136\n",
            "generation: 47 best value: 0110101101000001001110001011101 best fitness: 18.307136\n",
            "generation: 48 best value: 0110101101000001001110001011101 best fitness: 18.307136\n",
            "generation: 49 best value: 0110101101000001001110001011101 best fitness: 18.307136\n",
            "generation: 50 best value: 0110101101000001001110001011101 best fitness: 18.307136\n",
            "generation: 51 best value: 0110101101000001001110001011101 best fitness: 18.307136\n",
            "generation: 52 best value: 0110101101000001001110001011101 best fitness: 18.307136\n",
            "generation: 53 best value: 0110101101000001001110001011101 best fitness: 18.307136\n",
            "generation: 54 best value: 0110101101000001001110001011101 best fitness: 18.307136\n",
            "generation: 55 best value: 0110101101000001001110001011101 best fitness: 18.307136\n",
            "generation: 56 best value: 0110101101000001001110001011101 best fitness: 18.307136\n",
            "generation: 57 best value: 0110101101000001001110001011101 best fitness: 18.307136\n",
            "generation: 58 best value: 0110101101000001001110001011101 best fitness: 18.307136\n",
            "generation: 59 best value: 0110101101000001001110001011101 best fitness: 18.307136\n",
            "generation: 60 best value: 0110101101000001001110001011101 best fitness: 18.307136\n",
            "generation: 61 best value: 0110101101000001001110001011101 best fitness: 18.307136\n",
            "generation: 62 best value: 0110101101000001001110001011101 best fitness: 18.307136\n",
            "generation: 63 best value: 0110101101000001001110001011101 best fitness: 18.307136\n",
            "generation: 64 best value: 0110101101000001001110001011101 best fitness: 18.307136\n",
            "generation: 65 best value: 0110101101000001001110001011101 best fitness: 18.307136\n",
            "generation: 66 best value: 0110101101000001001110001011101 best fitness: 18.307136\n",
            "generation: 67 best value: 0110101101000001001110001011101 best fitness: 18.307136\n",
            "generation: 68 best value: 0110101101000001001110001011101 best fitness: 18.307136\n",
            "generation: 69 best value: 0110101101000001001110001011101 best fitness: 18.307136\n",
            "generation: 70 best value: 0110101101000001001110001011101 best fitness: 18.307136\n",
            "generation: 71 best value: 0110101101000001001110001011101 best fitness: 18.307136\n",
            "generation: 72 best value: 0110101101000001001110001011101 best fitness: 18.307136\n",
            "generation: 73 best value: 0110101101000001001110001011101 best fitness: 18.307136\n",
            "generation: 74 best value: 0110101101000001001110001011101 best fitness: 18.307136\n",
            "generation: 75 best value: 0110101101000001001110001011101 best fitness: 18.307136\n",
            "generation: 76 best value: 0110101101000001001110001011101 best fitness: 18.307136\n",
            "generation: 77 best value: 0110101101000001001110001011101 best fitness: 18.307136\n",
            "generation: 78 best value: 0110101101000001001110001011101 best fitness: 18.307136\n",
            "generation: 79 best value: 0110101101000001001110001011101 best fitness: 18.307136\n",
            "generation: 80 best value: 0110101101000001001110001011101 best fitness: 18.307136\n",
            "generation: 81 best value: 1111100100110001000011000100010 best fitness: 16.892922\n",
            "generation: 82 best value: 1111100100110001000011000100010 best fitness: 16.892922\n",
            "generation: 83 best value: 1111100100110001000011000100010 best fitness: 16.892922\n",
            "generation: 84 best value: 1111100100110001000011000100010 best fitness: 16.892922\n",
            "generation: 85 best value: 0010111100110001011001000100000 best fitness: 16.485281\n",
            "generation: 86 best value: 0010111100110001011001000100000 best fitness: 16.485281\n",
            "generation: 87 best value: 0010111100110001011001000100000 best fitness: 16.485281\n",
            "generation: 88 best value: 0010111100110001011001000100000 best fitness: 16.485281\n",
            "generation: 89 best value: 0010111100110001011001000100000 best fitness: 16.485281\n",
            "generation: 90 best value: 0010111100110001011001000100000 best fitness: 16.485281\n",
            "generation: 91 best value: 0010111100110001011001000100000 best fitness: 16.485281\n",
            "generation: 92 best value: 0010111100110001011001000100000 best fitness: 16.485281\n",
            "generation: 93 best value: 0010111100110001011001000100000 best fitness: 16.485281\n",
            "generation: 94 best value: 0010111100110001011001000100000 best fitness: 16.485281\n",
            "generation: 95 best value: 0010111100110001011001000100000 best fitness: 16.485281\n",
            "generation: 96 best value: 0010111100110001011001000100000 best fitness: 16.485281\n",
            "generation: 97 best value: 0010111100110001011001000100000 best fitness: 16.485281\n",
            "generation: 98 best value: 0010111100110001011001000100000 best fitness: 16.485281\n",
            "generation: 99 best value: 0010111100110001011001000100000 best fitness: 16.485281\n",
            "generation: 100 best value: 0010111100110001011001000100000 best fitness: 16.485281\n",
            "generation: 101 best value: 0010111100110001011001000100000 best fitness: 16.485281\n",
            "generation: 102 best value: 0010111100110001011001000100000 best fitness: 16.485281\n",
            "generation: 103 best value: 0010111100110001011001000100000 best fitness: 16.485281\n",
            "generation: 104 best value: 0010111100110001011001000100000 best fitness: 16.485281\n",
            "generation: 105 best value: 0010111100110001011001000100000 best fitness: 16.485281\n",
            "generation: 106 best value: 0010111100110001011001000100000 best fitness: 16.485281\n",
            "generation: 107 best value: 0101011100110001000011000110010 best fitness: 16.242641\n",
            "generation: 108 best value: 0101011100110001000011000110010 best fitness: 16.242641\n",
            "generation: 109 best value: 0101011100110001000011000110010 best fitness: 16.242641\n",
            "generation: 110 best value: 0101011100110001000011000110010 best fitness: 16.242641\n",
            "generation: 111 best value: 0101011100110001000011000110010 best fitness: 16.242641\n",
            "generation: 112 best value: 0101011100110001000011000110010 best fitness: 16.242641\n",
            "generation: 113 best value: 0101011100110001000011000110010 best fitness: 16.242641\n",
            "generation: 114 best value: 0101011100110001000011000110010 best fitness: 16.242641\n",
            "generation: 115 best value: 0101011100110001000011000110010 best fitness: 16.242641\n",
            "generation: 116 best value: 0101011100110001000011000110010 best fitness: 16.242641\n",
            "generation: 117 best value: 0101011100110001000011000110010 best fitness: 16.242641\n",
            "generation: 118 best value: 0101011100110001000011000110010 best fitness: 16.242641\n",
            "generation: 119 best value: 0101011100110001000011000110010 best fitness: 16.242641\n",
            "generation: 120 best value: 0101011100110001000011000110010 best fitness: 16.242641\n",
            "generation: 121 best value: 0101011100110001000011000110010 best fitness: 16.242641\n",
            "generation: 122 best value: 1111100100110001000000000100010 best fitness: 15.656854\n",
            "generation: 123 best value: 1111100100110001000000000100010 best fitness: 15.656854\n",
            "generation: 124 best value: 1111100100110001000000000100010 best fitness: 15.656854\n",
            "generation: 125 best value: 1111100100110001000000000100010 best fitness: 15.656854\n",
            "generation: 126 best value: 1111100100110001000000000100010 best fitness: 15.656854\n",
            "generation: 127 best value: 1111100100110001000000000100010 best fitness: 15.656854\n",
            "generation: 128 best value: 1111100100110001000000000100010 best fitness: 15.656854\n",
            "generation: 129 best value: 1111100100110001000000000100010 best fitness: 15.656854\n",
            "generation: 130 best value: 1111100100110001000000000100010 best fitness: 15.656854\n",
            "generation: 131 best value: 1111100100110001000000000100010 best fitness: 15.656854\n",
            "generation: 132 best value: 1111100100110001000000000100010 best fitness: 15.656854\n",
            "generation: 133 best value: 1111100100110001000000000100010 best fitness: 15.656854\n",
            "generation: 134 best value: 1111100100110001000000000100010 best fitness: 15.656854\n",
            "generation: 135 best value: 1111100100110001000000000100010 best fitness: 15.656854\n",
            "generation: 136 best value: 1111100100110001000000000100010 best fitness: 15.656854\n",
            "generation: 137 best value: 1111100100110001000000000100010 best fitness: 15.656854\n",
            "generation: 138 best value: 1111100100110001000000000100010 best fitness: 15.656854\n",
            "generation: 139 best value: 1111100100110001000000000100010 best fitness: 15.656854\n",
            "generation: 140 best value: 1111100100110001000000000100010 best fitness: 15.656854\n",
            "generation: 141 best value: 1111100100110001000000000100010 best fitness: 15.656854\n",
            "generation: 142 best value: 1111100100110001000000000100010 best fitness: 15.656854\n",
            "generation: 143 best value: 1111100100110001000000000100010 best fitness: 15.656854\n",
            "generation: 144 best value: 1111100100110001000000000100010 best fitness: 15.656854\n",
            "generation: 145 best value: 1111100100110001000000000100010 best fitness: 15.656854\n",
            "generation: 146 best value: 1111100100110001000000000100010 best fitness: 15.656854\n",
            "generation: 147 best value: 1111100100110001000000000100010 best fitness: 15.656854\n",
            "generation: 148 best value: 1111100100110001000000000100010 best fitness: 15.656854\n",
            "generation: 149 best value: 1111100100110001000000000100010 best fitness: 15.656854\n",
            "generation: 150 best value: 1111100100110001000000000100010 best fitness: 15.656854\n",
            "generation: 151 best value: 1111100100110001000000000100010 best fitness: 15.656854\n",
            "generation: 152 best value: 1111100100110001000000000100010 best fitness: 15.656854\n",
            "generation: 153 best value: 1111100100110001000000000100010 best fitness: 15.656854\n",
            "generation: 154 best value: 1111100100110001000000000100010 best fitness: 15.656854\n",
            "generation: 155 best value: 1111100100110001000000000100010 best fitness: 15.656854\n",
            "generation: 156 best value: 1111100100110001000000000100010 best fitness: 15.656854\n",
            "generation: 157 best value: 1111100100110001000000000100010 best fitness: 15.656854\n",
            "generation: 158 best value: 1111100100110001000000000100010 best fitness: 15.656854\n",
            "generation: 159 best value: 1111100100110001000000000100010 best fitness: 15.656854\n",
            "generation: 160 best value: 1111100100110001000000000100010 best fitness: 15.656854\n",
            "generation: 161 best value: 1111100100110001000000000100010 best fitness: 15.656854\n",
            "generation: 162 best value: 1111100100110001000000000100010 best fitness: 15.656854\n",
            "generation: 163 best value: 1111100100110001000000000100010 best fitness: 15.656854\n",
            "generation: 164 best value: 1111100100110001000000000100010 best fitness: 15.656854\n",
            "generation: 165 best value: 1111100100110001000000000100010 best fitness: 15.656854\n",
            "generation: 166 best value: 1111100100110001000000000100010 best fitness: 15.656854\n",
            "generation: 167 best value: 1111100100110001000000000100010 best fitness: 15.656854\n",
            "generation: 168 best value: 1111100100110001000000000100010 best fitness: 15.656854\n",
            "generation: 169 best value: 1111100100110001000000000100010 best fitness: 15.656854\n",
            "generation: 170 best value: 1111100100110001000000000100010 best fitness: 15.656854\n",
            "generation: 171 best value: 1111100100110001000000000100010 best fitness: 15.656854\n",
            "generation: 172 best value: 1111100100110001000000000100010 best fitness: 15.656854\n",
            "generation: 173 best value: 1111100100110001000000000100010 best fitness: 15.656854\n",
            "generation: 174 best value: 1111100100110001000000000100010 best fitness: 15.656854\n",
            "generation: 175 best value: 1111100100110001000000000100010 best fitness: 15.656854\n",
            "generation: 176 best value: 1111100100110001000000000100010 best fitness: 15.656854\n",
            "generation: 177 best value: 1111100100110001000000000100010 best fitness: 15.656854\n",
            "generation: 178 best value: 1111100100110001000000000100010 best fitness: 15.656854\n",
            "generation: 179 best value: 1111100100110001000000000100010 best fitness: 15.656854\n",
            "generation: 180 best value: 1111100100110001000000000100010 best fitness: 15.656854\n",
            "generation: 181 best value: 1111100100110001000000000100010 best fitness: 15.656854\n",
            "generation: 182 best value: 1111100100110001000000000100010 best fitness: 15.656854\n",
            "generation: 183 best value: 1111100100110001000000000100010 best fitness: 15.656854\n",
            "generation: 184 best value: 1111100100110001000000000100010 best fitness: 15.656854\n",
            "generation: 185 best value: 1111100100110001000000000100010 best fitness: 15.656854\n",
            "generation: 186 best value: 1111100100110001000000000100010 best fitness: 15.656854\n",
            "generation: 187 best value: 1111100100110001000000000100010 best fitness: 15.656854\n",
            "generation: 188 best value: 1111100100110001000000000100010 best fitness: 15.656854\n",
            "generation: 189 best value: 1111100100110001000000000100010 best fitness: 15.656854\n",
            "generation: 190 best value: 1111100100110001000000000100010 best fitness: 15.656854\n",
            "generation: 191 best value: 1111100100110001000000000100010 best fitness: 15.656854\n",
            "generation: 192 best value: 1111100100110001000000000100010 best fitness: 15.656854\n",
            "generation: 193 best value: 1111100100110001000000000100010 best fitness: 15.656854\n",
            "generation: 194 best value: 1111100100110001000000000100010 best fitness: 15.656854\n",
            "generation: 195 best value: 1111100100110001000000000100010 best fitness: 15.656854\n",
            "generation: 196 best value: 1111100100110001000000000100010 best fitness: 15.656854\n",
            "generation: 197 best value: 1111100100110001000000000100010 best fitness: 15.656854\n",
            "generation: 198 best value: 1111100100110001000000000100010 best fitness: 15.656854\n",
            "generation: 199 best value: 1111100100110001000000000100010 best fitness: 15.656854\n",
            "generation: 200 best value: 1111100100110001000000000100010 best fitness: 15.656854\n",
            "generation: 201 best value: 1111100100110001000000000100010 best fitness: 15.656854\n",
            "generation: 202 best value: 1111100100110001000000000100010 best fitness: 15.656854\n",
            "generation: 203 best value: 1111100100110001000000000100010 best fitness: 15.656854\n",
            "generation: 204 best value: 1111100100110001000000000100010 best fitness: 15.656854\n",
            "generation: 205 best value: 1111100100110001000000000100010 best fitness: 15.656854\n",
            "generation: 206 best value: 1111100100110001000000000100010 best fitness: 15.656854\n",
            "generation: 207 best value: 1111100100110001000000000100010 best fitness: 15.656854\n",
            "generation: 208 best value: 1111100100110001000000000100010 best fitness: 15.656854\n",
            "generation: 209 best value: 1111100100110001000000000100010 best fitness: 15.656854\n",
            "generation: 210 best value: 1111100100110001000000000100010 best fitness: 15.656854\n",
            "generation: 211 best value: 1111100100110001000000000100010 best fitness: 15.656854\n",
            "generation: 212 best value: 1111100100110001000000000100010 best fitness: 15.656854\n",
            "generation: 213 best value: 1111100100110001000000000100010 best fitness: 15.656854\n",
            "generation: 214 best value: 1111100100110001000000000100010 best fitness: 15.656854\n",
            "generation: 215 best value: 1111100100110001000000000100010 best fitness: 15.656854\n",
            "generation: 216 best value: 1111100100110001000000000100010 best fitness: 15.656854\n",
            "generation: 217 best value: 1111100100110001000000000100010 best fitness: 15.656854\n",
            "generation: 218 best value: 1111100100110001000000000100010 best fitness: 15.656854\n",
            "generation: 219 best value: 1111100100110001000000000100010 best fitness: 15.656854\n",
            "generation: 220 best value: 1111100100110001000000000100010 best fitness: 15.656854\n",
            "generation: 221 best value: 1111100100110001000000000100010 best fitness: 15.656854\n",
            "generation: 222 best value: 1111100100110001000000000100010 best fitness: 15.656854\n",
            "generation: 223 best value: 1111100100110001000000000100010 best fitness: 15.656854\n",
            "generation: 224 best value: 1111100100110001000000000100010 best fitness: 15.656854\n",
            "generation: 225 best value: 1111100100110001000000000100010 best fitness: 15.656854\n",
            "generation: 226 best value: 1111100100110001000000000100010 best fitness: 15.656854\n",
            "generation: 227 best value: 1111100100110001000000000100010 best fitness: 15.656854\n",
            "generation: 228 best value: 1111100100110001000000000100010 best fitness: 15.656854\n",
            "generation: 229 best value: 1111100100110001000000000100010 best fitness: 15.656854\n",
            "generation: 230 best value: 1111100100110001000000000100010 best fitness: 15.656854\n",
            "generation: 231 best value: 1111100100110001000000000100010 best fitness: 15.656854\n",
            "generation: 232 best value: 1111100100110001000000000100010 best fitness: 15.656854\n",
            "generation: 233 best value: 1111100100110001000000000100010 best fitness: 15.656854\n",
            "generation: 234 best value: 1111100100110001000000000100010 best fitness: 15.656854\n",
            "generation: 235 best value: 1111100100110001000000000100010 best fitness: 15.656854\n",
            "generation: 236 best value: 1111100100110001000000000100010 best fitness: 15.656854\n",
            "generation: 237 best value: 1111100100110001000000000100010 best fitness: 15.656854\n",
            "generation: 238 best value: 1111100100110001000000000100010 best fitness: 15.656854\n",
            "generation: 239 best value: 1111100100110001000000000100010 best fitness: 15.656854\n",
            "generation: 240 best value: 1111100100110001000000000100010 best fitness: 15.656854\n",
            "generation: 241 best value: 1111100100110001000000000100010 best fitness: 15.656854\n",
            "generation: 242 best value: 1111100100110001000000000100010 best fitness: 15.656854\n",
            "generation: 243 best value: 1111100100110001000000000100010 best fitness: 15.656854\n",
            "generation: 244 best value: 1111100100110001000000000100010 best fitness: 15.656854\n",
            "generation: 245 best value: 1111100100110001000000000100010 best fitness: 15.656854\n",
            "generation: 246 best value: 1111100100110001000000000100010 best fitness: 15.656854\n",
            "generation: 247 best value: 1111100100110001000000000100010 best fitness: 15.656854\n",
            "generation: 248 best value: 1111100100110001000000000100010 best fitness: 15.656854\n",
            "generation: 249 best value: 1111100100110001000000000100010 best fitness: 15.656854\n",
            "generation: 250 best value: 1111100100110001000000000100010 best fitness: 15.656854\n",
            "1111100100110001000000000100010\n"
          ]
        }
      ]
    },
    {
      "cell_type": "code",
      "source": [
        "estaciones = dec_ind(individuo)\n",
        "\n",
        "\n",
        "estaciones\n"
      ],
      "metadata": {
        "colab": {
          "base_uri": "https://localhost:8080/"
        },
        "id": "3vTh3NdnIKHS",
        "outputId": "dfd91bc7-69ea-4405-8237-4ca3e189f4f5"
      },
      "execution_count": null,
      "outputs": [
        {
          "output_type": "execute_result",
          "data": {
            "text/plain": [
              "{8: Numero: 8, x=1, y= 4,\n",
              " 9: Numero: 9, x=1, y= 3,\n",
              " 10: Numero: 10, x=4, y= 3,\n",
              " 11: Numero: 11, x=1, y= 1,\n",
              " 3: Numero: 3, x=2, y= 2,\n",
              " 1: Numero: 1, x=2, y= 3,\n",
              " 2: Numero: 2, x=3, y= 1,\n",
              " 5: Numero: 5, x=3, y= 2,\n",
              " 4: Numero: 4, x=3, y= 3,\n",
              " 6: Numero: 6, x=4, y= 1,\n",
              " 7: Numero: 7, x=4, y= 2}"
            ]
          },
          "metadata": {},
          "execution_count": 261
        }
      ]
    },
    {
      "cell_type": "code",
      "source": [
        "import matplotlib.pyplot as plt\n",
        "\n",
        "fig, ax = plt.subplots()\n",
        "\n",
        "for i in range(5):\n",
        "    ax.axhline(y=i*2, color='k', linestyle='-', lw=1)\n",
        "    ax.axvline(x=i*2, color='k', linestyle='-', lw=1)\n",
        "\n",
        "textos_estaciones = {\n",
        "    1: \"E.Trabajo\",\n",
        "    2: \"Destrozadora\",\n",
        "    3: \"Sierra Cinta\",\n",
        "    4: \"Canteadora\",\n",
        "    5: \"Cepillo\",\n",
        "    6: \"Trompo\",\n",
        "    7: \"Esclopeadora\"\n",
        "}\n",
        "\n",
        "for Estacion in estaciones:\n",
        "    if estaciones[Estacion].numero not in [8, 9, 10, 11]:\n",
        "        numero_estacion = estaciones[Estacion].numero\n",
        "        texto_estacion = textos_estaciones.get(numero_estacion, '')\n",
        "        x = (estaciones[Estacion].pos_x-0.5)*2\n",
        "        y = (estaciones[Estacion].pos_y-0.5)*2\n",
        "        ax.text(x, y, texto_estacion, ha='center', va='bottom', fontsize=8)\n",
        "        ax.text(x, y, str(numero_estacion), ha='center', va='top', fontsize=12, color='blue')\n",
        "\n",
        "for Num in list(estaciones_ocupadas.keys()):\n",
        "    ax.text((estaciones[Num].pos_x-0.5)*2, (estaciones[Num].pos_y-0.5)*2, estaciones[Num].nombre, ha='center', va='bottom', fontsize=12, color=\"brown\")\n",
        "    ax.text((estaciones[Num].pos_x-0.5)*2, (estaciones[Num].pos_y-0.5)*2, estaciones[Num].numero, ha='center', va='top', fontsize=12, color=\"black\")\n",
        "\n",
        "\n",
        "\n",
        "ax.set_xlim(0, 8)\n",
        "ax.set_ylim(0, 8)\n",
        "\n",
        "ax.set_aspect('equal')\n",
        "\n",
        "plt.axis('off')\n",
        "plt.show()"
      ],
      "metadata": {
        "colab": {
          "base_uri": "https://localhost:8080/",
          "height": 406
        },
        "id": "AejVgR7QxehU",
        "outputId": "c77ef326-2775-4282-ce91-18a14882b0b1"
      },
      "execution_count": null,
      "outputs": [
        {
          "output_type": "display_data",
          "data": {
            "text/plain": [
              "<Figure size 640x480 with 1 Axes>"
            ],
            "image/png": "[encoded data removed]"
          },
          "metadata": {}
        }
      ]
    }
  ]
}